{
 "cells": [
  {
   "cell_type": "code",
   "execution_count": null,
   "metadata": {},
   "outputs": [],
   "source": [
    "import torch\n",
    "import torch.nn as nn\n",
    "import torchvision.transforms as transforms\n",
    "import torchvision.datasets as datasets\n",
    "from torch.utils.data import DataLoader"
   ]
  },
  {
   "cell_type": "markdown",
   "metadata": {},
   "source": [
    "# STEP1: LOADING DATASET"
   ]
  },
  {
   "cell_type": "code",
   "execution_count": null,
   "metadata": {},
   "outputs": [],
   "source": [
    "train_dataset=datasets.MNIST('./data/',\n",
    "    train=True,\n",
    "    transform=transforms.ToTensor(),\n",
    "    target_transform=None,\n",
    "    download=True)\n",
    "\n",
    "test_dataset=datasets.MNIST('./data/',\n",
    "    train=False,\n",
    "    transform=transforms.ToTensor(),\n",
    "    target_transform=None,\n",
    "    download=True)"
   ]
  },
  {
   "cell_type": "markdown",
   "metadata": {},
   "source": [
    "# STEP2: MAKING DATASET ITERABLE"
   ]
  },
  {
   "cell_type": "code",
   "execution_count": null,
   "metadata": {},
   "outputs": [],
   "source": [
    "batch_size=100\n",
    "n_iters=3000\n",
    "num_epochs=n_iters // (len(train_dataset) / batch_size)\n",
    "num_epochs=int(num_epochs)\n",
    "\n",
    "train_loader=DataLoader(train_dataset,\n",
    "    batch_size=batch_size,\n",
    "    shuffle=True)\n",
    "\n",
    "test_loader=DataLoader(test_dataset,\n",
    "    batch_size=batch_size,\n",
    "    shuffle=False)"
   ]
  },
  {
   "cell_type": "markdown",
   "metadata": {},
   "source": [
    "# STEP3: CREATE MODEL CLASS"
   ]
  },
  {
   "cell_type": "code",
   "execution_count": null,
   "metadata": {},
   "outputs": [],
   "source": [
    "class CNNModel(nn.Module):\n",
    "    def __init__(self):\n",
    "        super(CNNModel, self).__init__()\n",
    "        \n",
    "        #Convolution 1\n",
    "        self.cnn1=nn.Conv2d(in_channels=1,\n",
    "            out_channels=16,\n",
    "            kernel_size=5,\n",
    "            stride=1,\n",
    "            padding=0)\n",
    "        self.relu1=nn.ReLU()\n",
    "        \n",
    "        #Max pool1\n",
    "        self.maxpool1=nn.MaxPool2d(kernel_size=2)\n",
    "        \n",
    "        #Convolution 2\n",
    "        self.cnn2=nn.Conv2d(in_channels=16,\n",
    "            out_channels=32,\n",
    "            kernel_size=5,\n",
    "            stride=1,\n",
    "            padding=0)\n",
    "        self.relu2=nn.ReLU()\n",
    "        \n",
    "        #Max pool2\n",
    "        self.maxpool2=nn.MaxPool2d(kernel_size=2)\n",
    "        \n",
    "        #Full connected 1\n",
    "        imagesize=28\n",
    "        in_features=(1+(imagesize-5)/1)/2\n",
    "        in_features=(1+(in_features-5)/1)/2\n",
    "        in_features=int(32*in_features**2)\n",
    "        out_features=10\n",
    "        self.fc1=nn.Linear(in_features, out_features)\n",
    "        \n",
    "    def forward(self, x):\n",
    "        # Convolution 1\n",
    "        out=self.cnn1(x)\n",
    "        out=self.relu1(out)\n",
    "        \n",
    "        #Max pool 1\n",
    "        out=self.maxpool1(out)\n",
    "        \n",
    "        #Convolution 2\n",
    "        out=self.cnn2(out)\n",
    "        out=self.relu2(out)\n",
    "        \n",
    "        #Max pool 2\n",
    "        out=self.maxpool2(out)\n",
    "        \n",
    "        # Resize\n",
    "        # out [100, 32, 4, 4]\n",
    "        out=out.view(out.shape[0], -1)\n",
    "        out=self.fc1(out)\n",
    "        return out"
   ]
  },
  {
   "cell_type": "markdown",
   "metadata": {},
   "source": [
    "# STEP4: INSTANTIATE MODEL CLASS"
   ]
  },
  {
   "cell_type": "code",
   "execution_count": null,
   "metadata": {},
   "outputs": [],
   "source": [
    "device=torch.device(\"cuda:0\" if torch.cuda.is_available() else \"cpu\")\n",
    "device"
   ]
  },
  {
   "cell_type": "code",
   "execution_count": null,
   "metadata": {},
   "outputs": [],
   "source": [
    "model=CNNModel()\n",
    "model.to(device)"
   ]
  },
  {
   "cell_type": "markdown",
   "metadata": {},
   "source": [
    "# STEP5: INSTANTIATE LOSS CLASS"
   ]
  },
  {
   "cell_type": "code",
   "execution_count": null,
   "metadata": {},
   "outputs": [],
   "source": [
    "criterion=nn.CrossEntropyLoss()"
   ]
  },
  {
   "cell_type": "markdown",
   "metadata": {},
   "source": [
    "# STEP6: INTANTIATE OPTIMIZER CLASS"
   ]
  },
  {
   "cell_type": "code",
   "execution_count": null,
   "metadata": {},
   "outputs": [],
   "source": [
    "learning_rate=0.01\n",
    "optimizer=torch.optim.SGD(model.parameters(), lr=learning_rate)"
   ]
  },
  {
   "cell_type": "markdown",
   "metadata": {},
   "source": [
    "# STEP7: TRAIN THE MODEL"
   ]
  },
  {
   "cell_type": "code",
   "execution_count": null,
   "metadata": {},
   "outputs": [],
   "source": [
    "iter=0\n",
    "for epoch in range(num_epochs*2):\n",
    "    for images, labels in train_loader:\n",
    "        images=images.requires_grad_().to(device)\n",
    "        labels=labels.to(device)\n",
    "        optimizer.zero_grad()\n",
    "        outputs=model(images)\n",
    "        loss=criterion(outputs, labels)\n",
    "        loss.backward()\n",
    "        optimizer.step()\n",
    "        iter+=1\n",
    "        \n",
    "        if iter%500==0:\n",
    "            model.eval()\n",
    "            correct=0\n",
    "            total=0\n",
    "            for images, labels in test_loader:\n",
    "                images = images.to(device)\n",
    "                labels = labels.to(device)                \n",
    "                outputs=model(images)\n",
    "                _, predicted=torch.max(outputs.data, 1)\n",
    "                total+=labels.shape[0]\n",
    "                correct+=(predicted.cpu()==labels.cpu()).sum()\n",
    "            \n",
    "            accuracy=100*correct/total\n",
    "            print('Iteration: {}. Loss: {}. Accuray: {}'.format(iter, loss.item(), accuracy))\n",
    "            model.train()\n",
    "        \n",
    "        "
   ]
  }
 ],
 "metadata": {
  "kernelspec": {
   "display_name": "Python 3",
   "language": "python",
   "name": "python3"
  },
  "language_info": {
   "codemirror_mode": {
    "name": "ipython",
    "version": 3
   },
   "file_extension": ".py",
   "mimetype": "text/x-python",
   "name": "python",
   "nbconvert_exporter": "python",
   "pygments_lexer": "ipython3",
   "version": "3.7.3"
  }
 },
 "nbformat": 4,
 "nbformat_minor": 2
}
