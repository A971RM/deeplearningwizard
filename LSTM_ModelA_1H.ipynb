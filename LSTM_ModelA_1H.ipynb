{
 "cells": [
  {
   "cell_type": "code",
   "execution_count": null,
   "metadata": {},
   "outputs": [],
   "source": [
    "import torch\n",
    "import torch.nn as nn\n",
    "from torchvision import datasets, transforms\n",
    "from torch.utils.data import DataLoader"
   ]
  },
  {
   "cell_type": "markdown",
   "metadata": {},
   "source": [
    "### STEP1: Loading MNIST Dataset"
   ]
  },
  {
   "cell_type": "code",
   "execution_count": null,
   "metadata": {},
   "outputs": [],
   "source": [
    "train_dataset=datasets.MNIST('./data/', True,\n",
    "                             transforms.ToTensor(),\n",
    "                             None, True)\n",
    "\n",
    "test_dataset=datasets.MNIST('./data/', False,\n",
    "                             transforms.ToTensor(),\n",
    "                             None, True)\n",
    "\n",
    "print(train_dataset.data.shape, train_dataset.targets.shape)\n",
    "print(test_dataset.data.shape, test_dataset.targets.shape)"
   ]
  },
  {
   "cell_type": "markdown",
   "metadata": {},
   "source": [
    "### STEP2: Make Dataset Iterable"
   ]
  },
  {
   "cell_type": "code",
   "execution_count": null,
   "metadata": {},
   "outputs": [],
   "source": [
    "batch_size=100\n",
    "num_epochs=5\n",
    "train_loader=DataLoader(train_dataset, batch_size, True)\n",
    "test_loader=DataLoader(test_dataset, batch_size, not True)\n",
    "\n",
    "f,s = iter(train_loader).next()\n",
    "print(len(train_loader), f.shape, s.shape)"
   ]
  },
  {
   "cell_type": "markdown",
   "metadata": {},
   "source": [
    "### STEP3:Create Model Class"
   ]
  },
  {
   "cell_type": "code",
   "execution_count": null,
   "metadata": {},
   "outputs": [],
   "source": [
    "class LSTMModel(nn.Module):\n",
    "    def __init__(self, input_dim, hidden_dim, layer_dim, output_dim):\n",
    "        super(LSTMModel, self).__init__()\n",
    "        self.hidden_dim=hidden_dim\n",
    "        self.layer_dim=layer_dim\n",
    "        \n",
    "        self.lstm=nn.LSTM(input_dim, hidden_dim, layer_dim,\n",
    "                          batch_first=True)\n",
    "        self.fc=nn.Linear(hidden_dim, output_dim)\n",
    "        \n",
    "    def forward(self, x):\n",
    "        h0=torch.zeros(self.layer_dim, x.size(0), self.hidden_dim).requires_grad_()\n",
    "        c0=torch.zeros(self.layer_dim, x.size(0), self.hidden_dim).requires_grad_()\n",
    "\n",
    "        out, (hn, cn) = self.lstm(x, (h0.detach(), c0.detach()))\n",
    "        out=self.fc(out[:, -1, :])\n",
    "        return out"
   ]
  },
  {
   "cell_type": "markdown",
   "metadata": {},
   "source": [
    "### STEP4: Instantiate Model Class"
   ]
  },
  {
   "cell_type": "code",
   "execution_count": null,
   "metadata": {},
   "outputs": [],
   "source": [
    "input_dim=28\n",
    "hidden_dim=100\n",
    "layer_dim=1\n",
    "output_dim=10\n",
    "\n",
    "model=LSTMModel(input_dim, hidden_dim, layer_dim, output_dim)\n",
    "print(model)\n",
    "for p in model.parameters():\n",
    "    print(p.shape)"
   ]
  },
  {
   "cell_type": "markdown",
   "metadata": {},
   "source": [
    "### STEP5: Instantiate Loss Class"
   ]
  },
  {
   "cell_type": "code",
   "execution_count": null,
   "metadata": {},
   "outputs": [],
   "source": [
    "criterion=nn.CrossEntropyLoss()"
   ]
  },
  {
   "cell_type": "markdown",
   "metadata": {},
   "source": [
    "### STEP6: Instantiate Optimizer Class"
   ]
  },
  {
   "cell_type": "code",
   "execution_count": null,
   "metadata": {},
   "outputs": [],
   "source": [
    "learning_rate=0.1\n",
    "optimizer=torch.optim.SGD(model.parameters(), lr=learning_rate)"
   ]
  },
  {
   "cell_type": "markdown",
   "metadata": {},
   "source": [
    "### STEP7: Train Model"
   ]
  },
  {
   "cell_type": "code",
   "execution_count": null,
   "metadata": {},
   "outputs": [],
   "source": [
    "seq_dim=28\n",
    "\n",
    "iter=0\n",
    "for epoch in range(num_epochs):\n",
    "    for images,labels in train_loader:\n",
    "        images=images.view(-1, seq_dim, input_dim).requires_grad_()\n",
    "        optimizer.zero_grad()\n",
    "        outputs=model(images)\n",
    "        loss=criterion(outputs, labels)\n",
    "        loss.backward()\n",
    "        optimizer.step()\n",
    "        iter+=1\n",
    "        if iter%500==0:\n",
    "            total=0.0\n",
    "            correct=0.0\n",
    "            for images, labels in test_loader:\n",
    "                total+=labels.size(0)\n",
    "                images=images.view(-1, seq_dim, input_dim)\n",
    "                outputs=model(images)\n",
    "                _,predicted=torch.max(outputs.data, 1)\n",
    "                correct+=(predicted==labels).sum()\n",
    "            accuracy=100.0*correct/total\n",
    "            print(\"Iter:{}. Loss:{}. Accu:{}\".format(\n",
    "                iter, loss.item(), accuracy))"
   ]
  }
 ],
 "metadata": {
  "kernelspec": {
   "display_name": "Python 3",
   "language": "python",
   "name": "python3"
  },
  "language_info": {
   "codemirror_mode": {
    "name": "ipython",
    "version": 3
   },
   "file_extension": ".py",
   "mimetype": "text/x-python",
   "name": "python",
   "nbconvert_exporter": "python",
   "pygments_lexer": "ipython3",
   "version": "3.7.1"
  }
 },
 "nbformat": 4,
 "nbformat_minor": 2
}
